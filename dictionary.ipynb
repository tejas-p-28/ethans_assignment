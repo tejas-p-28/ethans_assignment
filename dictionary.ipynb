{
 "cells": [
  {
   "cell_type": "code",
   "execution_count": 4,
   "id": "5fcebfbd-25e6-4d12-ab4c-ef9b07057379",
   "metadata": {},
   "outputs": [
    {
     "name": "stdin",
     "output_type": "stream",
     "text": [
      "enter your data name\n",
      "enter your key data tejas\n",
      "enter your value data course\n",
      "enter your value data python\n"
     ]
    },
    {
     "name": "stdout",
     "output_type": "stream",
     "text": [
      "{'name': 'tejas', 'course': 'python'}\n"
     ]
    }
   ],
   "source": [
    "key = input('enter your data')\n",
    "key_data = input('enter your key data')\n",
    "val = input('enter your value data')\n",
    "val_data = input('enter your value data')\n",
    "my_dict = {}\n",
    "my_dict = {key :key_data, val:val_data}\n",
    "print(my_dict)"
   ]
  },
  {
   "cell_type": "code",
   "execution_count": 7,
   "id": "b927f7f9-e5ad-4f5d-9329-d54547362225",
   "metadata": {},
   "outputs": [
    {
     "name": "stdout",
     "output_type": "stream",
     "text": [
      "{'a': 101, 'b': 201, 'c': 301, 'd': 401, 'e': 501, 'f': 601}\n"
     ]
    }
   ],
   "source": [
    "dic1={'a':101, 'b':201}\n",
    "dic2={'c':301, 'd':401} \n",
    "dic3={'e':501,'f':601}\n",
    "new_dict = {}\n",
    "new_dict.update(dic1)\n",
    "new_dict.update(dic2)\n",
    "new_dict.update(dic3)\n",
    "print(new_dict)"
   ]
  },
  {
   "cell_type": "code",
   "execution_count": 10,
   "id": "64468ad4-bd5e-41d3-93be-58e075b2ef2e",
   "metadata": {},
   "outputs": [
    {
     "data": {
      "text/plain": [
       "dict_keys(['a', 'b', 'c', 'd', 'e', 'f'])"
      ]
     },
     "execution_count": 10,
     "metadata": {},
     "output_type": "execute_result"
    }
   ],
   "source": [
    "new_dict.keys()"
   ]
  },
  {
   "cell_type": "code",
   "execution_count": 52,
   "id": "a0139028-26f5-4279-9576-bbca2d10ed98",
   "metadata": {},
   "outputs": [
    {
     "name": "stdin",
     "output_type": "stream",
     "text": [
      "enter the key you want to search a\n"
     ]
    },
    {
     "name": "stdout",
     "output_type": "stream",
     "text": [
      "True\n"
     ]
    }
   ],
   "source": [
    "user_input = input('enter the key you want to search')\n",
    "my_dict = {'a': 101, 'b': 201, 'c': 301, 'd': 401, 'e': 501, 'f': 601}\n",
    "if user_input in my_dict:\n",
    "    print('True')\n",
    "else:\n",
    "    print('False')"
   ]
  },
  {
   "cell_type": "code",
   "execution_count": 49,
   "id": "9e4b6975-15a1-4f99-8e78-396883051428",
   "metadata": {},
   "outputs": [
    {
     "name": "stdout",
     "output_type": "stream",
     "text": [
      "2106\n"
     ]
    }
   ],
   "source": [
    "key_sum = 0\n",
    "for i in my_dict.values():\n",
    "    key_sum += i\n",
    "print(key_sum)\n",
    "        "
   ]
  },
  {
   "cell_type": "code",
   "execution_count": 55,
   "id": "e21cc12a-6602-4a3d-b37a-634b79ff77a0",
   "metadata": {},
   "outputs": [
    {
     "name": "stdin",
     "output_type": "stream",
     "text": [
      "enter value you want to remove a\n"
     ]
    },
    {
     "name": "stdout",
     "output_type": "stream",
     "text": [
      "{'b': 201, 'c': 301, 'd': 401, 'e': 501, 'f': 601}\n"
     ]
    }
   ],
   "source": [
    "user = input('enter value you want to remove')\n",
    "my_dict = {'a': 101, 'b': 201, 'c': 301, 'd': 401, 'e': 501, 'f': 601}\n",
    "if user not in my_dict:\n",
    "    print('key not found')\n",
    "else:\n",
    "    my_dict.pop(user)\n",
    "print(my_dict)"
   ]
  },
  {
   "cell_type": "code",
   "execution_count": 86,
   "id": "23a52829-e91d-4ac2-aaba-04ce41a95644",
   "metadata": {},
   "outputs": [
    {
     "name": "stdout",
     "output_type": "stream",
     "text": [
      "dict_values([101, 201, 301, 401, 501, 601])\n"
     ]
    },
    {
     "ename": "TypeError",
     "evalue": "'>' not supported between instances of 'dict_values' and 'type'",
     "output_type": "error",
     "traceback": [
      "\u001b[1;31m---------------------------------------------------------------------------\u001b[0m",
      "\u001b[1;31mTypeError\u001b[0m                                 Traceback (most recent call last)",
      "Cell \u001b[1;32mIn[86], line 6\u001b[0m\n\u001b[0;32m      4\u001b[0m \u001b[38;5;28;01mfor\u001b[39;00m i \u001b[38;5;129;01min\u001b[39;00m my_dict\u001b[38;5;241m.\u001b[39mvalues():\n\u001b[0;32m      5\u001b[0m     temp \u001b[38;5;241m=\u001b[39m my_dict\u001b[38;5;241m.\u001b[39mvalues()\n\u001b[1;32m----> 6\u001b[0m     \u001b[38;5;28;01mif\u001b[39;00m \u001b[43mtemp\u001b[49m\u001b[43m \u001b[49m\u001b[38;5;241;43m>\u001b[39;49m\u001b[43m \u001b[49m\u001b[43mmin_no\u001b[49m:\n\u001b[0;32m      7\u001b[0m         min_no \u001b[38;5;241m=\u001b[39m temp\n\u001b[0;32m      8\u001b[0m \u001b[38;5;28mprint\u001b[39m(min_no)\n",
      "\u001b[1;31mTypeError\u001b[0m: '>' not supported between instances of 'dict_values' and 'type'"
     ]
    }
   ],
   "source": [
    "my_dict = {'a': 101, 'b': 201, 'c': 301, 'd': 401, 'e': 501, 'f': 601}\n",
    "print(str(my_dict.values()))\n",
    "min_no = int\n",
    "for i in my_dict.values():\n",
    "    temp = my_dict.values()\n",
    "    if temp > min_no:\n",
    "        min_no = temp\n",
    "print(min_no)"
   ]
  },
  {
   "cell_type": "code",
   "execution_count": null,
   "id": "fcf081d3-9936-4bd0-a27e-f8f82623dbc8",
   "metadata": {},
   "outputs": [],
   "source": [
    "my_dict = {'a': 101, 'b': 201, 'c': 301, 'd': 401, 'e': 501, 'f': 101}\n",
    "list1=[]\n",
    "dup = []\n",
    "for i in my_dict.values():\n",
    "    if i in list1:\n",
    "        list1.append(i)\n",
    "        \n",
    "    "
   ]
  },
  {
   "cell_type": "code",
   "execution_count": 89,
   "id": "c6694751-6095-4f39-9f42-9ef6e4bd1268",
   "metadata": {},
   "outputs": [
    {
     "name": "stdout",
     "output_type": "stream",
     "text": [
      "{'1': 1} TRUE\n"
     ]
    }
   ],
   "source": [
    "dict1 = {'1':1}\n",
    "if dict1:\n",
    "    print(dict1,'TRUE')\n",
    "else:\n",
    "    print('empty','False')"
   ]
  },
  {
   "cell_type": "code",
   "execution_count": 91,
   "id": "5e42e825-81c1-407b-b88b-3395726a675a",
   "metadata": {},
   "outputs": [
    {
     "name": "stdout",
     "output_type": "stream",
     "text": [
      "[101, 201, 301, 401, 501]\n"
     ]
    }
   ],
   "source": [
    "my_dict = {'a': 101, 'b': 201, 'c': 301, 'd': 401, 'e': 501, 'f': 101}\n",
    "print(list(set(my_dict.values())))"
   ]
  },
  {
   "cell_type": "code",
   "execution_count": 105,
   "id": "adee0143-33d2-4a21-9e38-593caf9428cc",
   "metadata": {},
   "outputs": [
    {
     "name": "stdout",
     "output_type": "stream",
     "text": [
      "[401, 501, 601]\n"
     ]
    }
   ],
   "source": [
    "my_dict = {'a': 101, 'b': 201, 'c': 301, 'd': 401, 'e': 501, 'f': 601}\n",
    "new_list = list(my_dict.values())\n",
    "print(new_list[-3:])"
   ]
  },
  {
   "cell_type": "code",
   "execution_count": null,
   "id": "2e501bf4-4ccf-4cc4-9cf5-12482df9feb2",
   "metadata": {},
   "outputs": [],
   "source": []
  }
 ],
 "metadata": {
  "kernelspec": {
   "display_name": "Python 3 (ipykernel)",
   "language": "python",
   "name": "python3"
  },
  "language_info": {
   "codemirror_mode": {
    "name": "ipython",
    "version": 3
   },
   "file_extension": ".py",
   "mimetype": "text/x-python",
   "name": "python",
   "nbconvert_exporter": "python",
   "pygments_lexer": "ipython3",
   "version": "3.12.2"
  }
 },
 "nbformat": 4,
 "nbformat_minor": 5
}
