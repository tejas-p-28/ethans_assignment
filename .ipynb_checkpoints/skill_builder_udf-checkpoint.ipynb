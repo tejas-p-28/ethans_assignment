{
 "cells": [
  {
   "cell_type": "code",
   "execution_count": 2,
   "id": "8fe6d4c4-29d8-4ca5-9469-a690135bce2e",
   "metadata": {},
   "outputs": [
    {
     "name": "stdout",
     "output_type": "stream",
     "text": [
      "5\n"
     ]
    }
   ],
   "source": [
    "def length(list1):\n",
    "    return len(list1)\n",
    "list1 = [4,5,4,6,7]\n",
    "result = length(list1)\n",
    "print(result)"
   ]
  },
  {
   "cell_type": "code",
   "execution_count": 5,
   "id": "e0a9cebd-88dc-4a2e-aae9-3c6ae28c7c14",
   "metadata": {},
   "outputs": [
    {
     "name": "stdout",
     "output_type": "stream",
     "text": [
      "False\n"
     ]
    }
   ],
   "source": [
    "def palindrome(s):\n",
    "    s = s.replace(' ','').lower()\n",
    "    return s == s[::-1]\n",
    "s = 'hello'\n",
    "print(palindrome(s))"
   ]
  },
  {
   "cell_type": "code",
   "execution_count": 10,
   "id": "becc9bc9-9ee6-4826-8507-b641060b745b",
   "metadata": {},
   "outputs": [
    {
     "name": "stdout",
     "output_type": "stream",
     "text": [
      "True\n"
     ]
    }
   ],
   "source": [
    "def palindrome(n):\n",
    "    n = str(n)\n",
    "    return n == n[::-1]\n",
    "n = 12321\n",
    "print(palindrome(n))"
   ]
  },
  {
   "cell_type": "code",
   "execution_count": 16,
   "id": "25d14928-30ec-4a9d-a60c-7ab31f6e29a2",
   "metadata": {},
   "outputs": [
    {
     "name": "stdout",
     "output_type": "stream",
     "text": [
      "16\n"
     ]
    }
   ],
   "source": [
    "def sum_list(list1):\n",
    "    return sum(list1)\n",
    "list1 = [1,2,3,4,6]\n",
    "print(sum_list(list1))"
   ]
  },
  {
   "cell_type": "code",
   "execution_count": null,
   "id": "66a807d1-42d6-4bca-9464-d29605929c88",
   "metadata": {},
   "outputs": [],
   "source": []
  }
 ],
 "metadata": {
  "kernelspec": {
   "display_name": "Python 3 (ipykernel)",
   "language": "python",
   "name": "python3"
  },
  "language_info": {
   "codemirror_mode": {
    "name": "ipython",
    "version": 3
   },
   "file_extension": ".py",
   "mimetype": "text/x-python",
   "name": "python",
   "nbconvert_exporter": "python",
   "pygments_lexer": "ipython3",
   "version": "3.12.2"
  }
 },
 "nbformat": 4,
 "nbformat_minor": 5
}
