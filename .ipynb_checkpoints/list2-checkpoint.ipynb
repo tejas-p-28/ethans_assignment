{
 "cells": [
  {
   "cell_type": "code",
   "execution_count": 1,
   "id": "568c236a-b5b1-4c2c-9e67-127af31f6c8d",
   "metadata": {},
   "outputs": [
    {
     "name": "stdin",
     "output_type": "stream",
     "text": [
      "enter the integer 5 56 45 5 4 4 5 5\n"
     ]
    },
    {
     "name": "stdout",
     "output_type": "stream",
     "text": [
      "total no. of item in list is 8\n",
      "last element in the list is 5\n",
      "reversed list is : ['5', '5', '4', '4', '5', '45', '56', '5']\n",
      "count of 5 in the list are : 4\n",
      "the last element poped is: 5\n",
      "the first element poped is: 5\n",
      "['4', '4', '45', '5', '5', '56']\n"
     ]
    }
   ],
   "source": [
    "list1 = input('enter the integer').split()\n",
    "print('total no. of item in list is',len(list1))\n",
    "print(f'last element in the list is {list1[-1]}')\n",
    "print(f'reversed list is : {list1[::-1]}')\n",
    "print(f'count of 5 in the list are : {list1.count('5')}')\n",
    "print(f'the last element poped is: {list1.pop()}')\n",
    "print(f'the first element poped is: {list1.pop(0)}')\n",
    "list1.sort()\n",
    "print(list1)\n"
   ]
  },
  {
   "cell_type": "code",
   "execution_count": 19,
   "id": "1dc180eb-65f1-4ca5-8084-b52e03a45a42",
   "metadata": {},
   "outputs": [
    {
     "name": "stdout",
     "output_type": "stream",
     "text": [
      "[4, 5, 6, 9, 10, 17]\n",
      "[4, 5, 6, 9, 10, 17, 4, 5, 6, 9, 10, 17]\n",
      "[4, 5, 25, 9, 10, 17]\n"
     ]
    }
   ],
   "source": [
    "list1 = [8,9,10]\n",
    "list1.insert(1,17)\n",
    "list1.append(4)\n",
    "list1.append(5)\n",
    "list1.append(6)\n",
    "list1.pop(0)\n",
    "list1.sort()\n",
    "print(list1)\n",
    "print(list1 * 2)\n",
    "list1[2] = 25\n",
    "print(list1)"
   ]
  },
  {
   "cell_type": "code",
   "execution_count": 1,
   "id": "7fa46d72-a940-4620-a2b7-5053d414c563",
   "metadata": {},
   "outputs": [
    {
     "name": "stdin",
     "output_type": "stream",
     "text": [
      "enter the string tejas patil shubhi\n"
     ]
    },
    {
     "name": "stdout",
     "output_type": "stream",
     "text": [
      "['tejas', 'patil', 'shubhi']\n",
      "['ejas', 'atil', 'hubhi']\n"
     ]
    }
   ],
   "source": [
    "string = input('enter the string').split()\n",
    "new_list = []\n",
    "for word in string:\n",
    "    new_list.append(word[1:])\n",
    "print(string)\n",
    "print(new_list)"
   ]
  },
  {
   "cell_type": "code",
   "execution_count": 12,
   "id": "c4103a43-4d68-4bd4-bc02-7b88e5498267",
   "metadata": {},
   "outputs": [
    {
     "name": "stdout",
     "output_type": "stream",
     "text": [
      "[5, 7, 9]\n"
     ]
    }
   ],
   "source": [
    "list1 = [1,2,3]\n",
    "list2 = [4,5,6,8]\n",
    "list3 = []\n",
    "length = len(list1)\n",
    "for i in range(length):\n",
    "    list3.append(list1[i] + list2[i])\n",
    "print(list3)"
   ]
  },
  {
   "cell_type": "code",
   "execution_count": 2,
   "id": "44ef70f4-b124-490b-a8ac-91ffcd6e42ca",
   "metadata": {},
   "outputs": [
    {
     "name": "stdin",
     "output_type": "stream",
     "text": [
      "enter any integer 6\n"
     ]
    },
    {
     "name": "stdout",
     "output_type": "stream",
     "text": [
      "factors of 6 = [1, 2, 3, 6]\n"
     ]
    }
   ],
   "source": [
    "integer = int(input('enter any integer'))\n",
    "list1 = []\n",
    "for i in range(1,integer+1):\n",
    "    if integer%i==0:\n",
    "        list1.append(i)\n",
    "print(f'factors of {integer} = {list1}')"
   ]
  },
  {
   "cell_type": "code",
   "execution_count": 5,
   "id": "480ca771-20cb-47c7-a714-1be97a5993f8",
   "metadata": {},
   "outputs": [
    {
     "name": "stdout",
     "output_type": "stream",
     "text": [
      "[1, 2, 3, 5, 6, 3, 4, 5, 3, 4, 5, 3]\n",
      "{1, 2, 3, 4, 5, 6}\n"
     ]
    }
   ],
   "source": [
    "list1 = [1,2,3,5,6,3,4,5,3,4,5,3]\n",
    "print(list1)\n",
    "list2 = set(list1)\n",
    "print(list2)"
   ]
  },
  {
   "cell_type": "code",
   "execution_count": 10,
   "id": "b56ed3b5-d26b-49f3-8202-9ea4f64ad9ed",
   "metadata": {},
   "outputs": [
    {
     "name": "stdin",
     "output_type": "stream",
     "text": [
      "enter length in feet 6\n"
     ]
    },
    {
     "name": "stdout",
     "output_type": "stream",
     "text": [
      "convert feet into \n",
      "1.Inches\n",
      "2.Yards\n",
      "3.miles\n",
      "4.millimeter\n",
      "5.centimeter\n",
      "6.meter\n",
      "7.km\n"
     ]
    },
    {
     "name": "stdin",
     "output_type": "stream",
     "text": [
      "enter your choice 10\n"
     ]
    },
    {
     "name": "stdout",
     "output_type": "stream",
     "text": [
      "invalid input\n"
     ]
    }
   ],
   "source": [
    "feet = int(input('enter length in feet'))\n",
    "print(f'convert feet into \\n1.Inches\\n2.Yards\\n3.miles\\n4.millimeter\\n5.centimeter\\n6.meter\\n7.km')\n",
    "choice = int(input('enter your choice'))\n",
    "if choice == 1:\n",
    "    print(f'{feet}ft to inches is: {feet * 12}')\n",
    "elif choice == 2:\n",
    "    print(f'{feet}ft to yards is:{feet/3}')\n",
    "elif choice == 3:\n",
    "    print(f'{feet} ft to miles: {feet * 0.0001894}')\n",
    "elif choice == 4:\n",
    "    print(f'{feet} ft to mm: {feet * 304.8}')\n",
    "elif choice == 5:\n",
    "    print(f'{feet} ft to cm: {feet * 30.48}')\n",
    "elif choice == 6:\n",
    "    print(f'{feet} ft to meter: {feet * 0.3048}')\n",
    "elif choice == 7:\n",
    "    print(f'{feet} ft to km: {feet * 0.0003048 }')\n",
    "else :\n",
    "    print('invalid input')"
   ]
  },
  {
   "cell_type": "code",
   "execution_count": null,
   "id": "1077e8aa-603c-40d1-b0c3-4f76ea917f8f",
   "metadata": {},
   "outputs": [],
   "source": []
  }
 ],
 "metadata": {
  "kernelspec": {
   "display_name": "Python 3 (ipykernel)",
   "language": "python",
   "name": "python3"
  },
  "language_info": {
   "codemirror_mode": {
    "name": "ipython",
    "version": 3
   },
   "file_extension": ".py",
   "mimetype": "text/x-python",
   "name": "python",
   "nbconvert_exporter": "python",
   "pygments_lexer": "ipython3",
   "version": "3.12.2"
  }
 },
 "nbformat": 4,
 "nbformat_minor": 5
}
