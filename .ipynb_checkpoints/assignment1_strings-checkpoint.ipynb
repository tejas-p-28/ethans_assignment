{
 "cells": [
  {
   "cell_type": "code",
   "execution_count": 2,
   "id": "e5d3aa34-b27f-4b2f-bd61-f860e716e65e",
   "metadata": {},
   "outputs": [
    {
     "name": "stdin",
     "output_type": "stream",
     "text": [
      "enter the string to calculate length of the string tejas\n"
     ]
    },
    {
     "name": "stdout",
     "output_type": "stream",
     "text": [
      "the length of the string tejas is 5\n"
     ]
    }
   ],
   "source": [
    "#to calculate the len of the string\n",
    "name = input(\"enter the string to calculate length of the string\")\n",
    "print(f'the length of the string {name} is {len(name)}')"
   ]
  },
  {
   "cell_type": "code",
   "execution_count": 8,
   "id": "ed5dda92-c606-4579-b261-3fc802fd3cad",
   "metadata": {},
   "outputs": [
    {
     "name": "stdin",
     "output_type": "stream",
     "text": [
      "enter any string tejas\n"
     ]
    },
    {
     "name": "stdout",
     "output_type": "stream",
     "text": [
      "te as\n"
     ]
    }
   ],
   "source": [
    "#to get first 2 and last 2 letter from string\n",
    "name = input(\"enter any string\")\n",
    "print(name[:2] +' '+ name[-2:])"
   ]
  },
  {
   "cell_type": "code",
   "execution_count": 15,
   "id": "a760b392-aabb-4b5c-9453-fdfa31bee6b7",
   "metadata": {},
   "outputs": [
    {
     "name": "stdin",
     "output_type": "stream",
     "text": [
      "enter 2 string abc xyz\n"
     ]
    },
    {
     "name": "stdout",
     "output_type": "stream",
     "text": [
      "abz xyc\n"
     ]
    }
   ],
   "source": [
    "#swap the string\n",
    "string1,string2 = input('enter 2 string').split()\n",
    "swap1 = string1[:2] + string2[-1] +' '+ string2[:2] + string1 [-1]\n",
    "print(swap1)"
   ]
  },
  {
   "cell_type": "code",
   "execution_count": 20,
   "id": "f4c525c0-a443-42c0-9d1f-27b6709d33fc",
   "metadata": {},
   "outputs": [
    {
     "name": "stdin",
     "output_type": "stream",
     "text": [
      "enter any string tejaspatil\n"
     ]
    },
    {
     "name": "stdout",
     "output_type": "stream",
     "text": [
      "odd strings are: tjsai even strings are: eaptl\n"
     ]
    }
   ],
   "source": [
    "#print odd and even of the string \n",
    "name = input('enter any string')\n",
    "print('odd strings are: ' + name[::2]  + ' ' + 'even strings are: '+ name [1::2]) "
   ]
  },
  {
   "cell_type": "code",
   "execution_count": 28,
   "id": "090449b4-7140-42ed-af4d-01819e5dd77c",
   "metadata": {},
   "outputs": [
    {
     "name": "stdin",
     "output_type": "stream",
     "text": [
      "enter the string tejaspatil\n"
     ]
    },
    {
     "name": "stdout",
     "output_type": "stream",
     "text": [
      "eaptl\n"
     ]
    }
   ],
   "source": [
    "#remove odd index of the string\n",
    "name = input('enter the string')\n",
    "ans = name[1::2]\n",
    "print(ans)"
   ]
  },
  {
   "cell_type": "code",
   "execution_count": 40,
   "id": "b7897bb1-1a18-49e0-9461-346d35e8aae9",
   "metadata": {},
   "outputs": [
    {
     "name": "stdin",
     "output_type": "stream",
     "text": [
      "enter the string tejass\n"
     ]
    },
    {
     "name": "stdout",
     "output_type": "stream",
     "text": [
      "tejhiass\n"
     ]
    }
   ],
   "source": [
    "#print new string in middle of the string\n",
    "name = input('enter the string')\n",
    "msg = len(name)//2\n",
    "print(name[:msg] + 'hi' + name[msg:])"
   ]
  },
  {
   "cell_type": "code",
   "execution_count": null,
   "id": "2f721a58-5fd1-427a-ae35-893089c929c7",
   "metadata": {},
   "outputs": [],
   "source": []
  }
 ],
 "metadata": {
  "kernelspec": {
   "display_name": "Python 3 (ipykernel)",
   "language": "python",
   "name": "python3"
  },
  "language_info": {
   "codemirror_mode": {
    "name": "ipython",
    "version": 3
   },
   "file_extension": ".py",
   "mimetype": "text/x-python",
   "name": "python",
   "nbconvert_exporter": "python",
   "pygments_lexer": "ipython3",
   "version": "3.12.2"
  }
 },
 "nbformat": 4,
 "nbformat_minor": 5
}
