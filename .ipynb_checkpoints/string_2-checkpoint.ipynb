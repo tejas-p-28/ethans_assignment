{
 "cells": [
  {
   "cell_type": "code",
   "execution_count": 15,
   "id": "04e23639-8c7d-4f1a-9ee1-58ef73d59f44",
   "metadata": {},
   "outputs": [
    {
     "name": "stdout",
     "output_type": "stream",
     "text": [
      "11\n",
      "tejas patiltejas patiltejas patiltejas patiltejas patiltejas patiltejas patiltejas patiltejas patiltejas patil\n",
      "t\n",
      "te\n",
      "lit\n",
      "p\n",
      "ejas pati\n",
      "TEJAS PATIL\n",
      "tejes petil\n"
     ]
    }
   ],
   "source": [
    "s = 'tejas patil'\n",
    "print(len(s))\n",
    "print(s *10)\n",
    "print(s[0])\n",
    "print(s[0:2])\n",
    "print(s[-1:-4:-1])\n",
    "print(s[6])\n",
    "print(s[1:-1])\n",
    "print(s.upper())\n",
    "print(s.replace('a','e'))"
   ]
  },
  {
   "cell_type": "code",
   "execution_count": 17,
   "id": "a031ae3e-4314-4443-b87b-668cd1c7184d",
   "metadata": {},
   "outputs": [
    {
     "name": "stdin",
     "output_type": "stream",
     "text": [
      "enter the string hi this is twjS\n"
     ]
    },
    {
     "name": "stdout",
     "output_type": "stream",
     "text": [
      "4\n"
     ]
    }
   ],
   "source": [
    "s = input('enter the string')\n",
    "print(len(s.split()))"
   ]
  },
  {
   "cell_type": "code",
   "execution_count": 19,
   "id": "ba7ee49a-dbe9-4091-a18f-c18b992c18d9",
   "metadata": {},
   "outputs": [
    {
     "name": "stdin",
     "output_type": "stream",
     "text": [
      "enter the string tejas\n"
     ]
    },
    {
     "name": "stdout",
     "output_type": "stream",
     "text": [
      "t*ejas!!!\n"
     ]
    }
   ],
   "source": [
    "string = input('enter the string')\n",
    "new_string = string[0] + '*' + string[1:] + '!!!'\n",
    "print(new_string)"
   ]
  },
  {
   "cell_type": "code",
   "execution_count": 21,
   "id": "6fa34152-a4cd-4b44-a1b1-5638f3a2a57c",
   "metadata": {},
   "outputs": [
    {
     "name": "stdin",
     "output_type": "stream",
     "text": [
      "enter a string te , j k\n"
     ]
    },
    {
     "name": "stdout",
     "output_type": "stream",
     "text": [
      "tejk\n"
     ]
    }
   ],
   "source": [
    "string = input('enter a string')\n",
    "new_string = string.lower().replace(',','').replace(' ' ,'')\n",
    "print(new_string)"
   ]
  },
  {
   "cell_type": "code",
   "execution_count": 29,
   "id": "9d7361bd-a5fc-4288-8038-5d5888d7d748",
   "metadata": {},
   "outputs": [
    {
     "name": "stdin",
     "output_type": "stream",
     "text": [
      "enter a string tejas\n"
     ]
    },
    {
     "name": "stdout",
     "output_type": "stream",
     "text": [
      "teja\n",
      "s\n"
     ]
    }
   ],
   "source": [
    "text1,text2 = input('enter a string').split('a',1)\n",
    "print(text1+'a')\n",
    "print(text2)"
   ]
  },
  {
   "cell_type": "code",
   "execution_count": 43,
   "id": "8b4d963b-c2a8-4615-87d9-c7b34ba968ef",
   "metadata": {},
   "outputs": [
    {
     "name": "stdin",
     "output_type": "stream",
     "text": [
      "enter the integer 5 4 6 4 5 6 7 4 3\n"
     ]
    },
    {
     "name": "stdout",
     "output_type": "stream",
     "text": [
      "total no. of item in list is 9\n",
      "last element in the list is 3\n",
      "reversed list is : ['3', '4', '7', '6', '5', '4', '6', '4', '5']\n",
      "count of 5 in the list are : 2\n",
      "the last element poped is: 3\n",
      "the first element poped is: 5\n",
      "['4', '4', '4', '5', '6', '6', '7']\n"
     ]
    }
   ],
   "source": []
  },
  {
   "cell_type": "code",
   "execution_count": null,
   "id": "89aec451-cc01-40d5-b622-554447c5ed92",
   "metadata": {},
   "outputs": [],
   "source": []
  }
 ],
 "metadata": {
  "kernelspec": {
   "display_name": "Python 3 (ipykernel)",
   "language": "python",
   "name": "python3"
  },
  "language_info": {
   "codemirror_mode": {
    "name": "ipython",
    "version": 3
   },
   "file_extension": ".py",
   "mimetype": "text/x-python",
   "name": "python",
   "nbconvert_exporter": "python",
   "pygments_lexer": "ipython3",
   "version": "3.12.2"
  }
 },
 "nbformat": 4,
 "nbformat_minor": 5
}
