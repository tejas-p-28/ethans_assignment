{
 "cells": [
  {
   "cell_type": "code",
   "execution_count": 93,
   "id": "046efa63-0153-4cc6-a02c-499bd5713ab2",
   "metadata": {},
   "outputs": [
    {
     "data": {
      "text/plain": [
       "[1, 2, 3, 4, 6, 8]"
      ]
     },
     "execution_count": 93,
     "metadata": {},
     "output_type": "execute_result"
    }
   ],
   "source": [
    "list1 = [1,2,3,4,1,2,3,6,8]\n",
    "list(set(list1))"
   ]
  },
  {
   "cell_type": "code",
   "execution_count": 27,
   "id": "cb95b05d-22d2-42b5-bec0-2c80a675e47b",
   "metadata": {},
   "outputs": [
    {
     "name": "stdout",
     "output_type": "stream",
     "text": [
      "the length of the tejas is: 5\n",
      "the length of the pravin is: 6\n",
      "the length of the python is: 6\n"
     ]
    }
   ],
   "source": [
    "#print len of all the words in the list\n",
    "list2 = ['tejas','pravin','python']\n",
    "for i in list2:\n",
    "    print(f'the length of the {i} is:' ,len(i))"
   ]
  },
  {
   "cell_type": "code",
   "execution_count": 32,
   "id": "49757714-f939-48c1-a927-850ee792f831",
   "metadata": {},
   "outputs": [
    {
     "data": {
      "text/plain": [
       "['Green', 'White', 'Black']"
      ]
     },
     "execution_count": 32,
     "metadata": {},
     "output_type": "execute_result"
    }
   ],
   "source": [
    "#print the output after removing 0,4,5 element from the list\n",
    "list3 = ['Red', 'Green', 'White', 'Black', 'Pink', 'Yellow']\n",
    "list4 = list3[:-2]\n",
    "list4[1:]"
   ]
  },
  {
   "cell_type": "code",
   "execution_count": 40,
   "id": "5513c9d1-decc-4583-9014-e5cac5abcc7e",
   "metadata": {},
   "outputs": [
    {
     "name": "stdout",
     "output_type": "stream",
     "text": [
      "['Green', 'White', 'Black']\n"
     ]
    }
   ],
   "source": [
    "list3 = ['Red', 'Green', 'White', 'Black', 'Pink', 'Yellow']\n",
    "list3.pop()\n",
    "list3.pop()\n",
    "print(list3[1:])"
   ]
  },
  {
   "cell_type": "code",
   "execution_count": 48,
   "id": "ae2fc6ae-3ccb-40db-8146-c14d4b310ee2",
   "metadata": {},
   "outputs": [
    {
     "name": "stdout",
     "output_type": "stream",
     "text": [
      "[1, 2, 3]\n"
     ]
    }
   ],
   "source": [
    "#difference of the 2 list\n",
    "list1 = [1,2,3,4,5,6]\n",
    "list2=[4,5,6]\n",
    "temp = []\n",
    "for i in list1:\n",
    "    if i not in list2:\n",
    "        temp.append(i)\n",
    "print(temp)"
   ]
  },
  {
   "cell_type": "code",
   "execution_count": 54,
   "id": "f1d5be8d-d0f6-4230-8596-3fdf399e1520",
   "metadata": {},
   "outputs": [
    {
     "name": "stdout",
     "output_type": "stream",
     "text": [
      "1\n"
     ]
    }
   ],
   "source": [
    "#index of the specified element\n",
    "name = ['tejas','shubhi','patil']\n",
    "print(name.index('shubhi'))"
   ]
  },
  {
   "cell_type": "code",
   "execution_count": 66,
   "id": "f3ae8d9e-d707-437c-8138-24cf4e741fba",
   "metadata": {},
   "outputs": [
    {
     "name": "stdout",
     "output_type": "stream",
     "text": [
      "[1, 2, 3, 'tejas', 'shubhi', 'patil']\n"
     ]
    }
   ],
   "source": [
    "#append a list to second list\n",
    "name = ['tejas','shubhi','patil']\n",
    "naam = [1,2,3,]\n",
    "naam.extend(name)\n",
    "print(naam)"
   ]
  },
  {
   "cell_type": "code",
   "execution_count": 80,
   "id": "c467253b-905d-4612-82bb-bb0646601616",
   "metadata": {},
   "outputs": [
    {
     "name": "stdout",
     "output_type": "stream",
     "text": [
      "4\n"
     ]
    }
   ],
   "source": [
    "list1 = ['1','2','3','tejas', 'shubhi', 'patil']\n",
    "print(len(list1[1:-1]))"
   ]
  },
  {
   "cell_type": "code",
   "execution_count": 84,
   "id": "5afd00f7-c253-44e5-b7bd-0dc0b0dbda6c",
   "metadata": {},
   "outputs": [
    {
     "name": "stdout",
     "output_type": "stream",
     "text": [
      "<class 'int'>\n",
      "<class 'int'>\n",
      "<class 'int'>\n",
      "<class 'list'>\n"
     ]
    }
   ],
   "source": [
    "#to check sublist from the list\n",
    "list1 = [3,4,5,[3,3]]\n",
    "print(type(list1[0]))\n",
    "print(type(list1[1]))\n",
    "print(type(list1[2]))\n",
    "print(type(list1[3]))"
   ]
  },
  {
   "cell_type": "code",
   "execution_count": 88,
   "id": "fa65148c-03eb-4e64-abc3-8d62ec62e195",
   "metadata": {},
   "outputs": [
    {
     "name": "stdout",
     "output_type": "stream",
     "text": [
      "[('',), ('a', 'b'), ('a', 'b', 'c'), 'd']\n"
     ]
    }
   ],
   "source": [
    "#to remove empty tuples from the list \n",
    "test = [(), (), ('',), ('a', 'b'), ('a', 'b', 'c'), ('d')]\n",
    "test.remove(())\n",
    "test.remove(())\n",
    "print(test)"
   ]
  },
  {
   "cell_type": "code",
   "execution_count": 91,
   "id": "ce2e8c22-6eb0-43ca-90bb-6f315e5eb1be",
   "metadata": {},
   "outputs": [
    {
     "name": "stdout",
     "output_type": "stream",
     "text": [
      "[1, 2, 3]\n"
     ]
    }
   ],
   "source": [
    "#difference betweem two list\n",
    "list1 = [1,2,3,4,5,6]\n",
    "list2=[4,5,6]\n",
    "result = list(set(list1) - set(list2))\n",
    "print(result)"
   ]
  },
  {
   "cell_type": "code",
   "execution_count": null,
   "id": "818d82e7-83ae-4a01-8dcd-b9561f2a5b5b",
   "metadata": {},
   "outputs": [],
   "source": []
  }
 ],
 "metadata": {
  "kernelspec": {
   "display_name": "Python 3 (ipykernel)",
   "language": "python",
   "name": "python3"
  },
  "language_info": {
   "codemirror_mode": {
    "name": "ipython",
    "version": 3
   },
   "file_extension": ".py",
   "mimetype": "text/x-python",
   "name": "python",
   "nbconvert_exporter": "python",
   "pygments_lexer": "ipython3",
   "version": "3.12.2"
  }
 },
 "nbformat": 4,
 "nbformat_minor": 5
}
