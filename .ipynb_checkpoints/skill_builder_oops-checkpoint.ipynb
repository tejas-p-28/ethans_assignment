{
 "cells": [
  {
   "cell_type": "code",
   "execution_count": 6,
   "id": "f8ea9a0a-266b-4660-89c3-4c9ce1d4d42a",
   "metadata": {},
   "outputs": [
    {
     "name": "stdout",
     "output_type": "stream",
     "text": [
      "make : Toyota\n",
      "model : Corola\n"
     ]
    }
   ],
   "source": [
    "class Car:\n",
    "    def __init__(self,make,model):\n",
    "        self.make = make\n",
    "        self.model = model\n",
    "c = Car('Toyota','Corola')\n",
    "print(f'make : {c.make}')\n",
    "print(f'model : {c.model}')"
   ]
  },
  {
   "cell_type": "code",
   "execution_count": 12,
   "id": "781fee41-3fad-49ef-95e2-174e265d482f",
   "metadata": {},
   "outputs": [
    {
     "name": "stdout",
     "output_type": "stream",
     "text": [
      "78.5\n"
     ]
    }
   ],
   "source": [
    "class Cricle:\n",
    "    def __init__(self,radius):\n",
    "        self.radius = radius\n",
    "    def area(self):\n",
    "        return 3.14*self.radius**2\n",
    "a = Cricle(5)\n",
    "print(a.area())"
   ]
  },
  {
   "cell_type": "code",
   "execution_count": 15,
   "id": "8c0f88b9-b04e-48ca-9c17-6b273a1be170",
   "metadata": {},
   "outputs": [
    {
     "name": "stdout",
     "output_type": "stream",
     "text": [
      "35\n",
      "24\n"
     ]
    }
   ],
   "source": [
    "class Rectangle:\n",
    "    def __init__(self,length,width):\n",
    "        self.length = length\n",
    "        self.width = width\n",
    "    def area(self):\n",
    "        return self.length * self.width\n",
    "    def perimeter(self):\n",
    "        return 2 * (self.length + self.width)\n",
    "rect = Rectangle(5,7)\n",
    "print(rect.area())\n",
    "print(rect.perimeter())"
   ]
  },
  {
   "cell_type": "code",
   "execution_count": 17,
   "id": "d458d10d-47b2-4122-ba62-b3800ab81694",
   "metadata": {},
   "outputs": [
    {
     "name": "stdout",
     "output_type": "stream",
     "text": [
      "Name : Tejas \n",
      "Salary: 4000\n"
     ]
    }
   ],
   "source": [
    "class Employee:\n",
    "    def __init__(self,name,salary):\n",
    "        self.name = name\n",
    "        self.salary = salary\n",
    "    def display(self):\n",
    "        return f'Name : {self.name} \\nSalary: {self.salary}'\n",
    "e = Employee('Tejas',4000)\n",
    "print(e.display())"
   ]
  },
  {
   "cell_type": "code",
   "execution_count": 16,
   "id": "41274e62-5c87-4f2a-a6c7-6ccd67175e52",
   "metadata": {},
   "outputs": [
    {
     "name": "stdout",
     "output_type": "stream",
     "text": [
      "total :  9800\n"
     ]
    }
   ],
   "source": [
    "class BankAccount:\n",
    "    def __init__(self,acc_no,bal = 0):\n",
    "        self.acc_no = acc_no\n",
    "        self.bal = bal\n",
    "    def deposit(self,amount):\n",
    "        self.bal += amount\n",
    "    def withdraw(self,amount):\n",
    "        self.bal -= amount\n",
    "b = BankAccount(123456,0)\n",
    "b.deposit(10000)\n",
    "withdrawn = b.withdraw(200)\n",
    "print(f'total :  {b.bal}')"
   ]
  },
  {
   "cell_type": "code",
   "execution_count": 19,
   "id": "b307c1b2-2615-4fce-8893-5ce5b94e9ee4",
   "metadata": {},
   "outputs": [
    {
     "name": "stdout",
     "output_type": "stream",
     "text": [
      "car is driving smoothly\n"
     ]
    }
   ],
   "source": [
    "class Vehicle:\n",
    "    def drive(self):\n",
    "        print('vehicle is driving')\n",
    "class Car(Vehicle):\n",
    "    def drive(self):\n",
    "        print('car is driving smoothly')\n",
    "c = Car()\n",
    "c.drive()"
   ]
  },
  {
   "cell_type": "code",
   "execution_count": 22,
   "id": "2cc4cf50-22b8-4dd4-a19a-e5e4e3ab0f3e",
   "metadata": {},
   "outputs": [
    {
     "name": "stdout",
     "output_type": "stream",
     "text": [
      "cat does meow\n",
      "dog barks\n"
     ]
    }
   ],
   "source": [
    "class Animal:\n",
    "    def make_sound(self):\n",
    "        print('animals make noise')\n",
    "class Cat(Animal):\n",
    "    def make_sound(self):\n",
    "        print('cat does meow')\n",
    "class Dog(Animal):\n",
    "    def make_sound(self):\n",
    "        print('dog barks')\n",
    "a = Dog()\n",
    "c = Cat()\n",
    "c.make_sound()\n",
    "a.make_sound()"
   ]
  },
  {
   "cell_type": "code",
   "execution_count": 30,
   "id": "67f187ce-dd07-44fb-a4fe-648f71048f81",
   "metadata": {},
   "outputs": [
    {
     "name": "stdout",
     "output_type": "stream",
     "text": [
      "9\n",
      "4\n",
      "12\n",
      "2.0\n"
     ]
    }
   ],
   "source": [
    "class Calculator:\n",
    "    def add (a,b):\n",
    "        return a+b\n",
    "    def subtract(a,b):\n",
    "        return a-b\n",
    "    def mul(a,b):\n",
    "        return a*b\n",
    "    def div(a,b):\n",
    "        return a/b\n",
    "a = Calculator.add(4,5)\n",
    "s = Calculator.subtract(7,3)\n",
    "m = Calculator.mul(3,4)\n",
    "d = Calculator.div(6,3)\n",
    "print(a)\n",
    "print(s)\n",
    "print(m)\n",
    "print(d)"
   ]
  },
  {
   "cell_type": "code",
   "execution_count": 23,
   "id": "9c03214d-ff02-4f27-b0c4-2be68db157f4",
   "metadata": {},
   "outputs": [
    {
     "data": {
      "text/plain": [
       "['opo', 'dfg', 'fgd', 'abc']"
      ]
     },
     "execution_count": 23,
     "metadata": {},
     "output_type": "execute_result"
    }
   ],
   "source": [
    "array = ['abc','fgd','dfg','opo']\n",
    "array[::-1]"
   ]
  },
  {
   "cell_type": "code",
   "execution_count": 6,
   "id": "b5ac4548-78a8-4257-9712-5d7316808da8",
   "metadata": {},
   "outputs": [
    {
     "name": "stdout",
     "output_type": "stream",
     "text": [
      "The second highest number is: 50\n"
     ]
    }
   ],
   "source": [
    "# Example list\n",
    "numbers = [10, 3, 45, 6, 30, 90, 50]\n",
    "\n",
    "# Initialize the highest and second-highest values\n",
    "highest = float('-inf')  # Start with the lowest possible value\n",
    "second_highest = float('-inf')\n",
    "\n",
    "# Iterate through the list\n",
    "for number in numbers:\n",
    "    if number > highest:\n",
    "        second_highest = highest  # Update second-highest before changing highest\n",
    "        highest = number\n",
    "    elif number > second_highest and number != highest:\n",
    "        second_highest = number\n",
    "\n",
    "# Print the second-highest value\n",
    "print(\"The second highest number is:\", second_highest)"
   ]
  },
  {
   "cell_type": "code",
   "execution_count": 3,
   "id": "87bfb615-4e47-4f19-bdfb-8456a8d9a4c9",
   "metadata": {},
   "outputs": [
    {
     "name": "stdout",
     "output_type": "stream",
     "text": [
      "the book 1984 is of Literrature\n"
     ]
    }
   ],
   "source": [
    "class Book:\n",
    "    genre = 'Literrature'\n",
    "    def __init__(self,title):\n",
    "        self.title = title\n",
    "    def print_genre(self):\n",
    "        print (f'the book {self.title} is of {self.genre}')\n",
    "b = Book(1984)\n",
    "b.print_genre()"
   ]
  },
  {
   "cell_type": "code",
   "execution_count": 8,
   "id": "5646d186-cd0f-4cd1-af51-4b140ec26fad",
   "metadata": {},
   "outputs": [
    {
     "name": "stdout",
     "output_type": "stream",
     "text": [
      "2\n"
     ]
    }
   ],
   "source": [
    "class Counter:\n",
    "    instance_count = 0\n",
    "    def __init__(self):\n",
    "        Counter.instance_count += 1\n",
    "    @classmethod\n",
    "    def get_counter(cls):\n",
    "        return cls.instance_count\n",
    "c1 = Counter()\n",
    "c2 = Counter()\n",
    "print(Counter.get_counter())"
   ]
  },
  {
   "cell_type": "code",
   "execution_count": null,
   "id": "c0ea7346-575e-4598-8124-7a31f2fe2093",
   "metadata": {},
   "outputs": [],
   "source": [
    "class Temperature:\n",
    "    def __init__(self):\n",
    "        "
   ]
  },
  {
   "cell_type": "code",
   "execution_count": 23,
   "id": "e6c48c43-c115-4de5-a10b-75a565615060",
   "metadata": {},
   "outputs": [
    {
     "name": "stdout",
     "output_type": "stream",
     "text": [
      "1\n",
      "2\n",
      "6\n",
      "24\n",
      "120\n",
      "720\n"
     ]
    }
   ],
   "source": [
    "\n",
    "fact = 1\n",
    "for i in range(1,num+1):\n",
    "    fact*=i\n",
    "    print(fact)"
   ]
  },
  {
   "cell_type": "code",
   "execution_count": 34,
   "id": "5a7b3e2b-0f8b-454a-9da1-7544997ec957",
   "metadata": {},
   "outputs": [
    {
     "name": "stdin",
     "output_type": "stream",
     "text": [
      " 29\n"
     ]
    },
    {
     "name": "stdout",
     "output_type": "stream",
     "text": [
      "prime\n"
     ]
    }
   ],
   "source": [
    "num = int(input())\n",
    "if num > 1:\n",
    "    for i in range(2,(num//2)+1):\n",
    "        if (num%i)==0:\n",
    "            print('not')\n",
    "            break\n",
    "    else:\n",
    "        print('prime')"
   ]
  },
  {
   "cell_type": "code",
   "execution_count": null,
   "id": "46f625e1-5195-40e9-8bc7-0626e023cf19",
   "metadata": {},
   "outputs": [],
   "source": []
  }
 ],
 "metadata": {
  "kernelspec": {
   "display_name": "Python 3 (ipykernel)",
   "language": "python",
   "name": "python3"
  },
  "language_info": {
   "codemirror_mode": {
    "name": "ipython",
    "version": 3
   },
   "file_extension": ".py",
   "mimetype": "text/x-python",
   "name": "python",
   "nbconvert_exporter": "python",
   "pygments_lexer": "ipython3",
   "version": "3.12.2"
  }
 },
 "nbformat": 4,
 "nbformat_minor": 5
}
