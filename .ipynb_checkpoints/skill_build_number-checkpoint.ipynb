{
 "cells": [
  {
   "cell_type": "markdown",
   "id": "164ead03-ccf9-40f0-9eb4-50a94a5c70a8",
   "metadata": {},
   "source": [
    "- Write a Python program to convert a given number into int, float, and complex.\n",
    "- Write a Python program to perform basic arithmetic operations on two numbers: addition, subtraction, multiplication, and division.\n",
    "- Write a Python program to find the square of a given number(4).\n",
    "- Write a Python program to find the sum of the first n natural numbers.\n",
    "- Write a Python program to find the absolute value of a number.\n",
    "- Write a program to generate a multiplication series.\n",
    "- Write a program to Calculate Power of a Number."
   ]
  },
  {
   "cell_type": "code",
   "execution_count": 2,
   "id": "66a7be75-4a08-4ebf-a4fd-6ff1798609a6",
   "metadata": {},
   "outputs": [
    {
     "name": "stdout",
     "output_type": "stream",
     "text": [
      "1\n",
      "10.0\n",
      "(12+0j)\n"
     ]
    }
   ],
   "source": [
    "x = int(1.1)\n",
    "y = float(10)\n",
    "z=complex(12)\n",
    "print(x)\n",
    "print(y)\n",
    "print(z)"
   ]
  },
  {
   "cell_type": "code",
   "execution_count": 4,
   "id": "b795b1f0-235d-44de-b5ca-d095f6ca5bff",
   "metadata": {},
   "outputs": [
    {
     "name": "stdout",
     "output_type": "stream",
     "text": [
      "55\n",
      "-31\n",
      "516\n",
      "0.27906976744186046\n"
     ]
    }
   ],
   "source": [
    "#basic arithmetic \n",
    "a = 12\n",
    "b = 43\n",
    "print(a+b)\n",
    "print(a-b)\n",
    "print(a*b)\n",
    "print(a/b)"
   ]
  },
  {
   "cell_type": "code",
   "execution_count": 5,
   "id": "29553214-852d-49bf-bfdd-562551eb71f9",
   "metadata": {},
   "outputs": [
    {
     "name": "stdout",
     "output_type": "stream",
     "text": [
      "16\n"
     ]
    }
   ],
   "source": [
    "print(4**2)"
   ]
  },
  {
   "cell_type": "code",
   "execution_count": 10,
   "id": "d2b411a0-7cb2-4bd5-9f81-a46004c455f7",
   "metadata": {},
   "outputs": [
    {
     "name": "stdout",
     "output_type": "stream",
     "text": [
      "21\n"
     ]
    }
   ],
   "source": [
    "n = 6\n",
    "natural = (n* (n+1))//2\n",
    "print(natural)"
   ]
  },
  {
   "cell_type": "code",
   "execution_count": 11,
   "id": "d2606308-fab7-490c-9a05-04c1ac1df415",
   "metadata": {},
   "outputs": [
    {
     "name": "stdout",
     "output_type": "stream",
     "text": [
      "35.786\n"
     ]
    }
   ],
   "source": [
    "print(abs(-35.7860))"
   ]
  },
  {
   "cell_type": "code",
   "execution_count": 3,
   "id": "a8dd8dd1-d5d5-4dad-9577-8ccbb3c13c8a",
   "metadata": {},
   "outputs": [
    {
     "name": "stdin",
     "output_type": "stream",
     "text": [
      "enter number : 4\n"
     ]
    },
    {
     "name": "stdout",
     "output_type": "stream",
     "text": [
      "4\n",
      "8\n",
      "12\n",
      "16\n",
      "20\n",
      "24\n",
      "28\n",
      "32\n",
      "36\n",
      "40\n"
     ]
    }
   ],
   "source": [
    "x = int(input('enter number :'))\n",
    "for i in range(1,11):\n",
    "    print(x*i)\n",
    "    "
   ]
  },
  {
   "cell_type": "code",
   "execution_count": 5,
   "id": "9bc84982-1bf3-4c91-a860-9d7485e0b43a",
   "metadata": {},
   "outputs": [
    {
     "name": "stdin",
     "output_type": "stream",
     "text": [
      "enter base: 2\n",
      "enter the exponent : 4\n"
     ]
    },
    {
     "name": "stdout",
     "output_type": "stream",
     "text": [
      "2\n",
      "4\n",
      "8\n",
      "16\n"
     ]
    }
   ],
   "source": [
    "base = int(input('enter base:'))\n",
    "exponent = int(input('enter the exponent :'))\n",
    "result = 1\n",
    "for i in range(exponent):\n",
    "    result*=base\n",
    "    print(result)"
   ]
  },
  {
   "cell_type": "code",
   "execution_count": null,
   "id": "34e3c939-b90b-4cca-a9f0-6387c03173fd",
   "metadata": {},
   "outputs": [],
   "source": []
  }
 ],
 "metadata": {
  "kernelspec": {
   "display_name": "Python 3 (ipykernel)",
   "language": "python",
   "name": "python3"
  },
  "language_info": {
   "codemirror_mode": {
    "name": "ipython",
    "version": 3
   },
   "file_extension": ".py",
   "mimetype": "text/x-python",
   "name": "python",
   "nbconvert_exporter": "python",
   "pygments_lexer": "ipython3",
   "version": "3.12.2"
  }
 },
 "nbformat": 4,
 "nbformat_minor": 5
}
