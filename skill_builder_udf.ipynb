{
 "cells": [
  {
   "cell_type": "code",
   "execution_count": 2,
   "id": "8fe6d4c4-29d8-4ca5-9469-a690135bce2e",
   "metadata": {},
   "outputs": [
    {
     "name": "stdout",
     "output_type": "stream",
     "text": [
      "5\n"
     ]
    }
   ],
   "source": [
    "def length(list1):\n",
    "    return len(list1)\n",
    "list1 = [4,5,4,6,7]\n",
    "result = length(list1)\n",
    "print(result)"
   ]
  },
  {
   "cell_type": "code",
   "execution_count": 29,
   "id": "e0a9cebd-88dc-4a2e-aae9-3c6ae28c7c14",
   "metadata": {},
   "outputs": [
    {
     "name": "stdout",
     "output_type": "stream",
     "text": [
      "True\n"
     ]
    }
   ],
   "source": [
    "def palindrome(s):\n",
    "    s = s.replace(' ','').lower()\n",
    "    return s == s[::-1]\n",
    "s = 'A man a plan a canal Panama'\n",
    "print(palindrome(s))"
   ]
  },
  {
   "cell_type": "code",
   "execution_count": 10,
   "id": "becc9bc9-9ee6-4826-8507-b641060b745b",
   "metadata": {},
   "outputs": [
    {
     "name": "stdout",
     "output_type": "stream",
     "text": [
      "True\n"
     ]
    }
   ],
   "source": [
    "def palindrome(n):\n",
    "    n = str(n)\n",
    "    return n == n[::-1]\n",
    "n = 12321\n",
    "print(palindrome(n))"
   ]
  },
  {
   "cell_type": "code",
   "execution_count": 16,
   "id": "25d14928-30ec-4a9d-a60c-7ab31f6e29a2",
   "metadata": {},
   "outputs": [
    {
     "name": "stdout",
     "output_type": "stream",
     "text": [
      "16\n"
     ]
    }
   ],
   "source": [
    "def sum_list(list1):\n",
    "    return sum(list1)\n",
    "list1 = [1,2,3,4,6]\n",
    "print(sum_list(list1))"
   ]
  },
  {
   "cell_type": "code",
   "execution_count": 23,
   "id": "66a807d1-42d6-4bca-9464-d29605929c88",
   "metadata": {},
   "outputs": [
    {
     "name": "stdout",
     "output_type": "stream",
     "text": [
      "[0, 1, 1, 2, 3, 5, 8, 13, 21, 34, 55]\n"
     ]
    }
   ],
   "source": [
    "def fibonacci(n):\n",
    "    fib = []\n",
    "    a,b = 0,1\n",
    "    for i in range(n+1):\n",
    "        fib.append(a)\n",
    "        a,b = b, a+b\n",
    "    return fib\n",
    "n = 10\n",
    "print(fibonacci(n))"
   ]
  },
  {
   "cell_type": "code",
   "execution_count": 28,
   "id": "7a4e2fc3-7182-4ba3-8c3a-90c1f3d03e8c",
   "metadata": {},
   "outputs": [
    {
     "name": "stdout",
     "output_type": "stream",
     "text": [
      "[0, 1, 1, 2, 3, 5, 8, 13, 21, 34, 55]\n"
     ]
    }
   ],
   "source": [
    "fib = []\n",
    "a,b = 0,1\n",
    "n = 10\n",
    "for i in range(n+1):\n",
    "    fib.append(a)\n",
    "    a,b = b, a+b\n",
    "print(fib)"
   ]
  },
  {
   "cell_type": "code",
   "execution_count": 38,
   "id": "05ba52ea-5b0e-4d1a-b49f-017711fe5c39",
   "metadata": {},
   "outputs": [
    {
     "name": "stdout",
     "output_type": "stream",
     "text": [
      "c\n"
     ]
    }
   ],
   "source": [
    "def max_num(a,b,c):\n",
    "    \n",
    "\n",
    "    if a>b and a>c:\n",
    "        print('a')\n",
    "    elif(b>c):\n",
    "        print('b')\n",
    "    elif(a<c):\n",
    "        return print('c')\n",
    "m = max_num(40,10,50)"
   ]
  },
  {
   "cell_type": "code",
   "execution_count": 6,
   "id": "5233d35a-c96c-4017-8aca-562e2e245e8a",
   "metadata": {},
   "outputs": [
    {
     "name": "stdout",
     "output_type": "stream",
     "text": [
      "[1, 2, 3, 4, 5, 6, 7, 8, 9]\n"
     ]
    }
   ],
   "source": [
    "def sorted_list(list1,list2):\n",
    "    merged = []\n",
    "    i, j = 0, 0\n",
    "    while i < len(list1) and j < len(list2):\n",
    "        if list1[i] < list2[j]:\n",
    "            merged.append(list1[i])\n",
    "            i+=1\n",
    "        else:\n",
    "            merged.append(list2[j])\n",
    "            j+=1\n",
    "    merged.extend(list1[i:])\n",
    "    merged.extend(list2[j:])\n",
    "    return merged\n",
    "list1 = [1,3,5,7,9]\n",
    "list2 = [2,4,6,8]\n",
    "m = sorted_list(list1,list2)\n",
    "print(m)"
   ]
  },
  {
   "cell_type": "code",
   "execution_count": null,
   "id": "4a5e8206-1d60-4d8a-aa4b-5b615780281e",
   "metadata": {},
   "outputs": [],
   "source": []
  }
 ],
 "metadata": {
  "kernelspec": {
   "display_name": "Python 3 (ipykernel)",
   "language": "python",
   "name": "python3"
  },
  "language_info": {
   "codemirror_mode": {
    "name": "ipython",
    "version": 3
   },
   "file_extension": ".py",
   "mimetype": "text/x-python",
   "name": "python",
   "nbconvert_exporter": "python",
   "pygments_lexer": "ipython3",
   "version": "3.12.2"
  }
 },
 "nbformat": 4,
 "nbformat_minor": 5
}
