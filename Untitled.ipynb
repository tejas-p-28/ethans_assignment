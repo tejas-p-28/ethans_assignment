{
 "cells": [
  {
   "cell_type": "code",
   "execution_count": null,
   "id": "c9c130ac-661d-4da7-8f86-d43abfa4a3f7",
   "metadata": {},
   "outputs": [],
   "source": [
    "-train no(2)\n",
    "    source starting des\n",
    "    -destination\n",
    "    -stopages\n",
    "    -coach type\n",
    "        - lower berth no.\n",
    "            -available\n",
    "            -booked\n",
    "        - middle berth no.\n",
    "        - upper berth no.\n",
    "\n",
    "-enter train no.\n",
    "    -enter coach type\n",
    "        -enter berth type\n",
    "            -display available berths\n",
    "            -enter berth no to book\n",
    "            -update the structure to mark this berth as booked and remove from the available \n",
    "-advance whether u are admin or user"
   ]
  }
 ],
 "metadata": {
  "kernelspec": {
   "display_name": "Python 3 (ipykernel)",
   "language": "python",
   "name": "python3"
  },
  "language_info": {
   "codemirror_mode": {
    "name": "ipython",
    "version": 3
   },
   "file_extension": ".py",
   "mimetype": "text/x-python",
   "name": "python",
   "nbconvert_exporter": "python",
   "pygments_lexer": "ipython3",
   "version": "3.12.2"
  }
 },
 "nbformat": 4,
 "nbformat_minor": 5
}
